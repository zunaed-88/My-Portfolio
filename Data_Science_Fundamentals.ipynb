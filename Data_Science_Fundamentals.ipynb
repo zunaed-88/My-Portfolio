{
  "nbformat": 4,
  "nbformat_minor": 0,
  "metadata": {
    "colab": {
      "provenance": [],
      "include_colab_link": true
    },
    "kernelspec": {
      "name": "python3",
      "display_name": "Python 3"
    },
    "language_info": {
      "name": "python"
    }
  },
  "cells": [
    {
      "cell_type": "markdown",
      "metadata": {
        "id": "view-in-github",
        "colab_type": "text"
      },
      "source": [
        "<a href=\"https://colab.research.google.com/github/zunaed-88/My-Portfolio/blob/main/Data_Science_Fundamentals.ipynb\" target=\"_parent\"><img src=\"https://colab.research.google.com/assets/colab-badge.svg\" alt=\"Open In Colab\"/></a>"
      ]
    },
    {
      "cell_type": "markdown",
      "source": [
        "<h1>Data Science Tools and Ecosystem"
      ],
      "metadata": {
        "id": "IDti9KIZXKzs"
      }
    },
    {
      "cell_type": "markdown",
      "source": [
        "<h2>Introduction <br>\n",
        "<h5> In this section you will be provided a brief overview of data science tools and its ecosystem."
      ],
      "metadata": {
        "id": "cWqwC5jcYHbI"
      }
    },
    {
      "cell_type": "markdown",
      "source": [
        "<h2>Popular Data Science Languages<br>\n",
        "\n",
        "\n",
        "1.   Python\n",
        "2.   R\n",
        "3.   SQL\n",
        "4.   Julia\n",
        "5.   JavaScript   \n",
        "\n",
        "\n",
        "\n",
        "\n",
        "\n"
      ],
      "metadata": {
        "id": "sMXm3rvgZhU6"
      }
    },
    {
      "cell_type": "markdown",
      "source": [
        "<h2>Popular Data Science Libraries<br>\n",
        "\n",
        "\n",
        "1.   Pandas\n",
        "2.   Matplotlib\n",
        "3.   Scikit-Learn\n",
        "4.   Seaborn\n",
        "5.   Plotly   \n",
        "\n"
      ],
      "metadata": {
        "id": "o-9W1toZSzsc"
      }
    },
    {
      "cell_type": "markdown",
      "source": [
        "# Table of Data Science Tools\n",
        "\n",
        "| Category                   | Tool                    | Description                                           |\n",
        "|--------------------------- |-------------------------|-------------------------------------------------------|\n",
        "| Data Analysis              | Pandas                  | Data manipulation and analysis in Python             |\n",
        "| Visualization              | Matplotlib              | 2D plotting library in Python                         |\n",
        "| Visualization              | Seaborn                 | Statistical data visualization built on Matplotlib   |\n",
        "| Machine Learning           | Scikit-learn            | Simple and efficient tools for machine learning      |\n",
        "| Statistical Modeling       | Statsmodels             | Estimation and testing of statistical models         |\n",
        "| Natural Language Processing | NLTK                    | Natural Language Toolkit for human language data      |\n",
        "\n",
        "    "
      ],
      "metadata": {
        "id": "I_4AYDsBTcMT"
      }
    },
    {
      "cell_type": "markdown",
      "source": [
        "# Arithmetic Expressions Examples\n",
        "\n",
        "Arithmetic expressions involve mathematical operations such as addition, subtraction, multiplication, and division. These expressions are fundamental in mathematics and programming, providing a way to perform numerical computations.\n",
        "\n",
        "## Examples:\n",
        "\n",
        "1. **Addition:**\n",
        "   ```python\n",
        "   2 + 3  # Result: 5"
      ],
      "metadata": {
        "id": "oqcrghDaUFLm"
      }
    },
    {
      "cell_type": "markdown",
      "source": [
        "# Code to multiply and add numbers"
      ],
      "metadata": {
        "id": "zSii7HXkUkzj"
      }
    },
    {
      "cell_type": "code",
      "source": [
        "a = 3\n",
        "b = 5"
      ],
      "metadata": {
        "id": "hAMva3JkUi0o"
      },
      "execution_count": 1,
      "outputs": []
    },
    {
      "cell_type": "code",
      "source": [
        "c = a+b\n",
        "print(c)"
      ],
      "metadata": {
        "colab": {
          "base_uri": "https://localhost:8080/"
        },
        "id": "1sIT5AKpVAUc",
        "outputId": "cd15b6c7-a59b-4bc9-e257-cd0b939fe76c"
      },
      "execution_count": 3,
      "outputs": [
        {
          "output_type": "stream",
          "name": "stdout",
          "text": [
            "8\n"
          ]
        }
      ]
    },
    {
      "cell_type": "code",
      "source": [
        "d = a*b\n",
        "print(d)"
      ],
      "metadata": {
        "colab": {
          "base_uri": "https://localhost:8080/"
        },
        "id": "65nHP3WIU-Ej",
        "outputId": "b27a9dbf-3e50-4761-9166-38122a2ea038"
      },
      "execution_count": 5,
      "outputs": [
        {
          "output_type": "stream",
          "name": "stdout",
          "text": [
            "15\n"
          ]
        }
      ]
    },
    {
      "cell_type": "markdown",
      "source": [
        "#Conversion of minutes to hours"
      ],
      "metadata": {
        "id": "qa3k66BEVT16"
      }
    },
    {
      "cell_type": "code",
      "source": [
        "minutes = 120\n",
        "hours_result = minutes / 60\n",
        "# Print the result\n",
        "print(f\"{minutes} minutes is equal to {hours_result:.2f} hours\")"
      ],
      "metadata": {
        "colab": {
          "base_uri": "https://localhost:8080/"
        },
        "id": "xuvowzthVYyo",
        "outputId": "363348a1-1187-4270-d631-ac59a565f434"
      },
      "execution_count": 9,
      "outputs": [
        {
          "output_type": "stream",
          "name": "stdout",
          "text": [
            "120 minutes is equal to 2.00 hours\n"
          ]
        }
      ]
    },
    {
      "cell_type": "markdown",
      "source": [
        "#List of Objectives<br>\n",
        "\n",
        "These objectives reflect a holistic approach to the data science workflow, encompassing various stages from data exploration to model deployment and ongoing refinement.\n",
        "\n",
        "1. **Data Exploration and Understanding:**\n",
        "\n",
        "2. **Data Cleaning and Preprocessing:**\n",
        "  \n",
        "3. **Feature Engineering:**\n",
        "\n",
        "4. **Exploratory Data Analysis (EDA):**\n",
        "   \n",
        "5. **Model Development:**\n",
        "   \n",
        "6. **Model Interpretability:**\n",
        "  \n",
        "7. **Model Optimization:**\n",
        "\n",
        "8. **Validation and Testing:**\n",
        "\n",
        "9. **Communication of Results:**\n",
        "\n",
        "\n",
        "\n"
      ],
      "metadata": {
        "id": "-Ym3tfTEWv62"
      }
    },
    {
      "cell_type": "markdown",
      "source": [
        "#Author Name<br>\n",
        "**Junaid Ahmed Shaikh**"
      ],
      "metadata": {
        "id": "QTRG9P8BXxII"
      }
    }
  ]
}